{
 "cells": [
  {
   "cell_type": "code",
   "execution_count": 1,
   "metadata": {},
   "outputs": [],
   "source": [
    "import pandas as pd\n",
    "import json\n",
    "import numpy as np\n",
    "from utils import *\n",
    "from utils import _jaccard_similarity\n",
    "from tqdm.auto import tqdm\n",
    "from transformers import *\n",
    "from fuzzywuzzy import fuzz\n",
    "import pickle\n",
    "tqdm.pandas()"
   ]
  },
  {
   "cell_type": "code",
   "execution_count": 3,
   "metadata": {},
   "outputs": [],
   "source": [
    "tokenizer = GPT2TokenizerFast.from_pretrained('gpt2')\n",
    "window_size = 32\n",
    "max_sequence_length = 256\n",
    "model_name = \"gpt\"\n",
    "use_lower = False\n",
    "\n",
    "!mkdir ../input/pickled\n",
    "!mkdir ./models"
   ]
  },
  {
   "cell_type": "code",
   "execution_count": 9,
   "metadata": {},
   "outputs": [
    {
     "data": {
      "application/vnd.jupyter.widget-view+json": {
       "model_id": "c6800e3218654cdd921b81039e1a8a8d",
       "version_major": 2,
       "version_minor": 0
      },
      "text/plain": [
       "  0%|          | 0/19661 [00:00<?, ?it/s]"
      ]
     },
     "metadata": {},
     "output_type": "display_data"
    },
    {
     "name": "stderr",
     "output_type": "stream",
     "text": [
      "Token indices sequence length is longer than the specified maximum sequence length for this model (2072 > 1024). Running this sequence through the model will result in indexing errors\n"
     ]
    }
   ],
   "source": [
    "# Spliting train data to overlapping windows\n",
    "df = pd.read_csv(\"../input/train.csv\")\n",
    "train_df = pd.DataFrame()\n",
    "texts = []\n",
    "pub_titles = []\n",
    "labels = []\n",
    "ids = []\n",
    "for idx, row in tqdm(df.iterrows(),total=len(df)):\n",
    "    x = json.load(open(f\"../input/train/{row.Id}.json\",\"rt\"))\n",
    "    article = \"\"\n",
    "    for section in x:\n",
    "        raw_text = \" \".join(section[\"text\"].replace(\"\\n\", \" \").split())\n",
    "        article += raw_text\n",
    "        article += \" \"\n",
    "#     article =  clean_text(article)\n",
    "    input_ids = tokenizer.encode(article, add_special_tokens=False)\n",
    "    n_samples = math.ceil(len(input_ids)/(max_sequence_length - window_size))\n",
    "    label = row.dataset_label\n",
    "    for sample_idx in range(n_samples):\n",
    "        start = max(0, (max_sequence_length - window_size)*sample_idx)\n",
    "        end = start + max_sequence_length\n",
    "        curr_ids = input_ids[start: end]\n",
    "        curr_text = tokenizer.decode(curr_ids)\n",
    "        texts.append(curr_text)\n",
    "        if label in curr_text:\n",
    "            labels.append(label)\n",
    "        else:\n",
    "            labels.append(\"\")\n",
    "        pub_titles.append(row.pub_title)\n",
    "        ids.append(row.Id)\n",
    "train_df[\"Id\"] = ids\n",
    "train_df[\"pub_title\"] = pub_titles\n",
    "train_df[\"text\"] = texts\n",
    "train_df[\"label\"] = labels\n",
    "train_df = train_df.fillna(\"\")\n",
    "train_df.to_csv(f\"../input/train_processed_{max_sequence_length}.csv\",index=False)"
   ]
  },
  {
   "cell_type": "code",
   "execution_count": 10,
   "metadata": {},
   "outputs": [
    {
     "data": {
      "text/html": [
       "<div>\n",
       "<style scoped>\n",
       "    .dataframe tbody tr th:only-of-type {\n",
       "        vertical-align: middle;\n",
       "    }\n",
       "\n",
       "    .dataframe tbody tr th {\n",
       "        vertical-align: top;\n",
       "    }\n",
       "\n",
       "    .dataframe thead th {\n",
       "        text-align: right;\n",
       "    }\n",
       "</style>\n",
       "<table border=\"1\" class=\"dataframe\">\n",
       "  <thead>\n",
       "    <tr style=\"text-align: right;\">\n",
       "      <th></th>\n",
       "      <th>Id</th>\n",
       "      <th>pub_title</th>\n",
       "      <th>text</th>\n",
       "      <th>label</th>\n",
       "    </tr>\n",
       "  </thead>\n",
       "  <tbody>\n",
       "    <tr>\n",
       "      <th>0</th>\n",
       "      <td>d0fa7568-7d8e-4db9-870f-f9c6f668c17b</td>\n",
       "      <td>The Impact of Dual Enrollment on College Degre...</td>\n",
       "      <td>This study used data from the National Educati...</td>\n",
       "      <td>National Education Longitudinal Study</td>\n",
       "    </tr>\n",
       "    <tr>\n",
       "      <th>1</th>\n",
       "      <td>d0fa7568-7d8e-4db9-870f-f9c6f668c17b</td>\n",
       "      <td>The Impact of Dual Enrollment on College Degre...</td>\n",
       "      <td>These programs are intended to improve colleg...</td>\n",
       "      <td></td>\n",
       "    </tr>\n",
       "    <tr>\n",
       "      <th>2</th>\n",
       "      <td>d0fa7568-7d8e-4db9-870f-f9c6f668c17b</td>\n",
       "      <td>The Impact of Dual Enrollment on College Degre...</td>\n",
       "      <td>author also examined whether students who ear...</td>\n",
       "      <td></td>\n",
       "    </tr>\n",
       "    <tr>\n",
       "      <th>3</th>\n",
       "      <td>d0fa7568-7d8e-4db9-870f-f9c6f668c17b</td>\n",
       "      <td>The Impact of Dual Enrollment on College Degre...</td>\n",
       "      <td>research described in this report meets WWC e...</td>\n",
       "      <td></td>\n",
       "    </tr>\n",
       "    <tr>\n",
       "      <th>4</th>\n",
       "      <td>d0fa7568-7d8e-4db9-870f-f9c6f668c17b</td>\n",
       "      <td>The Impact of Dual Enrollment on College Degre...</td>\n",
       "      <td>B. The study was based on secondary data from...</td>\n",
       "      <td>National Education Longitudinal Study</td>\n",
       "    </tr>\n",
       "  </tbody>\n",
       "</table>\n",
       "</div>"
      ],
      "text/plain": [
       "                                     Id  \\\n",
       "0  d0fa7568-7d8e-4db9-870f-f9c6f668c17b   \n",
       "1  d0fa7568-7d8e-4db9-870f-f9c6f668c17b   \n",
       "2  d0fa7568-7d8e-4db9-870f-f9c6f668c17b   \n",
       "3  d0fa7568-7d8e-4db9-870f-f9c6f668c17b   \n",
       "4  d0fa7568-7d8e-4db9-870f-f9c6f668c17b   \n",
       "\n",
       "                                           pub_title  \\\n",
       "0  The Impact of Dual Enrollment on College Degre...   \n",
       "1  The Impact of Dual Enrollment on College Degre...   \n",
       "2  The Impact of Dual Enrollment on College Degre...   \n",
       "3  The Impact of Dual Enrollment on College Degre...   \n",
       "4  The Impact of Dual Enrollment on College Degre...   \n",
       "\n",
       "                                                text  \\\n",
       "0  This study used data from the National Educati...   \n",
       "1   These programs are intended to improve colleg...   \n",
       "2   author also examined whether students who ear...   \n",
       "3   research described in this report meets WWC e...   \n",
       "4   B. The study was based on secondary data from...   \n",
       "\n",
       "                                   label  \n",
       "0  National Education Longitudinal Study  \n",
       "1                                         \n",
       "2                                         \n",
       "3                                         \n",
       "4  National Education Longitudinal Study  "
      ]
     },
     "execution_count": 10,
     "metadata": {},
     "output_type": "execute_result"
    }
   ],
   "source": [
    "train_df = pd.read_csv(f\"../input/train_processed_{max_sequence_length}.csv\")\n",
    "train_df = train_df.fillna(\"\")\n",
    "train_df.head()"
   ]
  },
  {
   "cell_type": "code",
   "execution_count": 11,
   "metadata": {},
   "outputs": [],
   "source": [
    "# # Finding missing abbreviation of training labels\n",
    "\n",
    "acronyms = {\n",
    "    \"alzheimer's disease neuroimaging initiative\": \"adni\",\n",
    "    \"alzheimer's disease cooperative study\": \"adcs\",\n",
    "    \"baltimore longitudinal study of aging\":  \"blsa\",\n",
    "    \"covid-19 open research dataset\": \"cord-19\",\n",
    "#     \"census of agriculture\": \"coa\",\n",
    "    \"characterizing health associated risks and your baseline disease in sars cov 2\": \"charybdis\",\n",
    "    \"nces core of common data\": \"ccd\",\n",
    "    \"complexity science hub covid 19 control strategies list\": \"cccsl\",\n",
    "    \"coastal change analysis program\": \"c-cap\",\n",
    "    \"noaa national water level observation network\": \"nwlon\",\n",
    "    \"noaa sea lake and overland surges from hurricanes\": \"slosh\",\n",
    "    \"international best-track archive for climate stewardship\": \"ibtracs\",\n",
    "    \"optimum interpolation sea surface temperature\": \"oisst\",\n",
    "    \"rural-urban continuum codes\": \"ruccs\",\n",
    "    \"north american breeding bird survey\": \"bbs\",\n",
    "    \"aging integrated database\": \"agid\",\n",
    "    \"national institute on aging genetics of alzheimer s disease data storage site\": \"niagads\",\n",
    "#     \"agricultural and resource management survey\": \"arm\",\n",
    "    \"baccalaureate and beyond longitudinal study\": \"b&b\",\n",
    "    \"early childhood longitudinal study\": \"ecls\",\n",
    "    \"national longitudinal transition study\": \"nlts\",\n",
    "    \"national education longitudinal studies\": \"nels\",\n",
    "    \"high school longitudinal study\": \"hsls\",\n",
    "    \"national assessment of education progress\": \"naep\",\n",
    "    \"noaa world ocean database\": \"wod\",\n",
    "    \"survey of doctorate recipients\": \"sdr\",\n",
    "    \"international survey of doctoral recipients\": \"isdr\",\n",
    "#     \"survey of earned doctorates\": \"sed\",\n",
    "    \"survey of industrial research and development\": \"sird\",\n",
    "    \"national teacher and principal survey\": \"ntps\",\n",
    "    \"international assessment of adult competencies\": \"piaac\",\n",
    "    \"rsna international covid 19 open radiology database\": \"ricord\",\n",
    "    \"survey of doctorate recipients\": \"sdr\",\n",
    "    \"school survey on crime and safety\": \"ssocs\",\n",
    "    \"trends in international mathematics and science survey\": \"timss\",\n",
    "    \"national postsecondary student aid survey\": \"npsas\",\n",
    "#     \"postsecondary longitudinal studies\" : \"pls\"\n",
    "}\n",
    "for key, val in acronyms.items():\n",
    "    acronyms[key] = val.upper()"
   ]
  },
  {
   "cell_type": "code",
   "execution_count": 12,
   "metadata": {},
   "outputs": [],
   "source": [
    "# Splitting to train and val\n",
    "val_groups = [clean_text(x.strip()) for x in open(\"../input/val_groups.txt\",\"rt\").readlines()]\n",
    "\n",
    "train_groups_orig = [x for x in train_df.label.unique() if clean_text(x) not in val_groups and len(x) > 0]\n",
    "train_groups_orig.extend([x for x in acronyms.values()])\n",
    "train_groups_orig  = list(set(train_groups_orig))\n",
    "train_groups_orig = np.array(train_groups_orig)\n",
    "train_groups_orig = train_groups_orig[np.argsort([len(x) for x in train_groups_orig])][::-1]\n",
    "\n",
    "train_groups = [clean_text(x) for x in train_df.label.unique() if clean_text(x) not in val_groups and len(x) > 0]\n",
    "train_groups.extend([clean_text(x) for x in acronyms.values()])\n",
    "train_group  = list(set(train_groups))\n",
    "\n",
    "val_groups = np.array(val_groups)\n",
    "val_groups = val_groups[np.argsort([len(x) for x in val_groups])][::-1]\n",
    "train_groups = np.array(train_groups)\n",
    "train_groups = train_groups[np.argsort([len(x) for x in train_groups])][::-1]"
   ]
  },
  {
   "cell_type": "code",
   "execution_count": 13,
   "metadata": {},
   "outputs": [],
   "source": [
    "def find_valid(row):\n",
    "    text = clean_text(row.text)\n",
    "    has_train = False\n",
    "    has_val = False\n",
    "    for label in train_groups:\n",
    "        if label in text:\n",
    "            if len(label.split()) > 1 or \" \"+label in text:\n",
    "                has_train = True\n",
    "                break\n",
    "    for label in val_groups:\n",
    "        if label in text:\n",
    "            has_val = True\n",
    "            break  \n",
    "    # invalid samples are the ones that belong to both train and val set\n",
    "    if has_train and has_val:\n",
    "        return None\n",
    "    if has_train and (not has_val):\n",
    "        return \"train\"\n",
    "    if has_val and (not has_train):\n",
    "        return \"val\"\n",
    "    # random negative sampling\n",
    "    if not(has_train or has_val):\n",
    "        return \"train\" if np.random.rand() > 0.2 else \"val\"\n",
    "    \n",
    "train_df[\"group\"] = train_df.progress_apply(find_valid, axis=1)"
   ]
  },
  {
   "cell_type": "code",
   "execution_count": 15,
   "metadata": {},
   "outputs": [],
   "source": [
    "val_df = train_df[train_df.group == \"val\"]\n",
    "train_df = train_df[train_df.group == \"train\"]"
   ]
  },
  {
   "cell_type": "code",
   "execution_count": 16,
   "metadata": {},
   "outputs": [
    {
     "data": {
      "application/vnd.jupyter.widget-view+json": {
       "model_id": "fec8457584a4400aa2232f7dc829c049",
       "version_major": 2,
       "version_minor": 0
      },
      "text/plain": [
       "  0%|          | 0/197751 [00:00<?, ?it/s]"
      ]
     },
     "metadata": {},
     "output_type": "display_data"
    }
   ],
   "source": [
    "def find_val_label(x):\n",
    "    labels = []\n",
    "    x = clean_text(x)\n",
    "    for label in val_groups:\n",
    "        if label in x:\n",
    "            labels.append(label)\n",
    "    return \"|\".join(labels)\n",
    "val_df.label = val_df.text.progress_apply(find_val_label)\n",
    "val_df = val_df.fillna(\"\")\n",
    "val_df.to_csv(f\"../input/val_processed_{max_sequence_length}.csv\",index=False)"
   ]
  },
  {
   "cell_type": "code",
   "execution_count": 14,
   "metadata": {},
   "outputs": [
    {
     "data": {
      "application/vnd.jupyter.widget-view+json": {
       "model_id": "becfa4fa5f9e4c22aba5c62459f11f85",
       "version_major": 2,
       "version_minor": 0
      },
      "text/plain": [
       "  0%|          | 0/816811 [00:00<?, ?it/s]"
      ]
     },
     "metadata": {},
     "output_type": "display_data"
    }
   ],
   "source": [
    "def find_train_label(x):\n",
    "    for label in train_groups_orig:\n",
    "        if label in x:\n",
    "            if len(label.split()) > 1 or \" \"+label+\" \" in x:\n",
    "                return label\n",
    "    return \"\"\n",
    "train_df.label = train_df.text.progress_apply(find_train_label)"
   ]
  },
  {
   "cell_type": "code",
   "execution_count": 17,
   "metadata": {},
   "outputs": [
    {
     "data": {
      "text/html": [
       "<div>\n",
       "<style scoped>\n",
       "    .dataframe tbody tr th:only-of-type {\n",
       "        vertical-align: middle;\n",
       "    }\n",
       "\n",
       "    .dataframe tbody tr th {\n",
       "        vertical-align: top;\n",
       "    }\n",
       "\n",
       "    .dataframe thead th {\n",
       "        text-align: right;\n",
       "    }\n",
       "</style>\n",
       "<table border=\"1\" class=\"dataframe\">\n",
       "  <thead>\n",
       "    <tr style=\"text-align: right;\">\n",
       "      <th></th>\n",
       "      <th>Id</th>\n",
       "      <th>pub_title</th>\n",
       "      <th>text</th>\n",
       "      <th>label</th>\n",
       "      <th>group</th>\n",
       "      <th>will_take</th>\n",
       "    </tr>\n",
       "  </thead>\n",
       "  <tbody>\n",
       "    <tr>\n",
       "      <th>0</th>\n",
       "      <td>d0fa7568-7d8e-4db9-870f-f9c6f668c17b</td>\n",
       "      <td>The Impact of Dual Enrollment on College Degre...</td>\n",
       "      <td>This study used data from the National Educati...</td>\n",
       "      <td>National Education Longitudinal Study</td>\n",
       "      <td>train</td>\n",
       "      <td>True</td>\n",
       "    </tr>\n",
       "    <tr>\n",
       "      <th>1</th>\n",
       "      <td>d0fa7568-7d8e-4db9-870f-f9c6f668c17b</td>\n",
       "      <td>The Impact of Dual Enrollment on College Degre...</td>\n",
       "      <td>These programs are intended to improve colleg...</td>\n",
       "      <td></td>\n",
       "      <td>train</td>\n",
       "      <td>False</td>\n",
       "    </tr>\n",
       "    <tr>\n",
       "      <th>2</th>\n",
       "      <td>d0fa7568-7d8e-4db9-870f-f9c6f668c17b</td>\n",
       "      <td>The Impact of Dual Enrollment on College Degre...</td>\n",
       "      <td>author also examined whether students who ear...</td>\n",
       "      <td></td>\n",
       "      <td>train</td>\n",
       "      <td>False</td>\n",
       "    </tr>\n",
       "    <tr>\n",
       "      <th>3</th>\n",
       "      <td>d0fa7568-7d8e-4db9-870f-f9c6f668c17b</td>\n",
       "      <td>The Impact of Dual Enrollment on College Degre...</td>\n",
       "      <td>research described in this report meets WWC e...</td>\n",
       "      <td></td>\n",
       "      <td>train</td>\n",
       "      <td>False</td>\n",
       "    </tr>\n",
       "    <tr>\n",
       "      <th>4</th>\n",
       "      <td>d0fa7568-7d8e-4db9-870f-f9c6f668c17b</td>\n",
       "      <td>The Impact of Dual Enrollment on College Degre...</td>\n",
       "      <td>B. The study was based on secondary data from...</td>\n",
       "      <td>National Education Longitudinal Study</td>\n",
       "      <td>train</td>\n",
       "      <td>True</td>\n",
       "    </tr>\n",
       "  </tbody>\n",
       "</table>\n",
       "</div>"
      ],
      "text/plain": [
       "                                     Id  \\\n",
       "0  d0fa7568-7d8e-4db9-870f-f9c6f668c17b   \n",
       "1  d0fa7568-7d8e-4db9-870f-f9c6f668c17b   \n",
       "2  d0fa7568-7d8e-4db9-870f-f9c6f668c17b   \n",
       "3  d0fa7568-7d8e-4db9-870f-f9c6f668c17b   \n",
       "4  d0fa7568-7d8e-4db9-870f-f9c6f668c17b   \n",
       "\n",
       "                                           pub_title  \\\n",
       "0  The Impact of Dual Enrollment on College Degre...   \n",
       "1  The Impact of Dual Enrollment on College Degre...   \n",
       "2  The Impact of Dual Enrollment on College Degre...   \n",
       "3  The Impact of Dual Enrollment on College Degre...   \n",
       "4  The Impact of Dual Enrollment on College Degre...   \n",
       "\n",
       "                                                text  \\\n",
       "0  This study used data from the National Educati...   \n",
       "1   These programs are intended to improve colleg...   \n",
       "2   author also examined whether students who ear...   \n",
       "3   research described in this report meets WWC e...   \n",
       "4   B. The study was based on secondary data from...   \n",
       "\n",
       "                                   label  group  will_take  \n",
       "0  National Education Longitudinal Study  train       True  \n",
       "1                                         train      False  \n",
       "2                                         train      False  \n",
       "3                                         train      False  \n",
       "4  National Education Longitudinal Study  train       True  "
      ]
     },
     "execution_count": 17,
     "metadata": {},
     "output_type": "execute_result"
    }
   ],
   "source": [
    "# We take all the positive samples and 5% of all negative samples\n",
    "train_df[\"will_take\"] = train_df.label.apply(lambda x: len(x) > 0 or np.random.rand() < 0.05)\n",
    "train_df[train_df.will_take][train_df.columns[:-1]].to_csv(f\"../input/train_sampled_{max_sequence_length}.csv\",index=False)\n",
    "train_df.head()"
   ]
  },
  {
   "cell_type": "code",
   "execution_count": 18,
   "metadata": {},
   "outputs": [],
   "source": [
    "from utils import *"
   ]
  },
  {
   "cell_type": "code",
   "execution_count": 19,
   "metadata": {},
   "outputs": [
    {
     "data": {
      "application/vnd.jupyter.widget-view+json": {
       "model_id": "8bd3a64cee734bb58bbba5450f7ad88f",
       "version_major": 2,
       "version_minor": 0
      },
      "text/plain": [
       "  0%|          | 0/197751 [00:00<?, ?it/s]"
      ]
     },
     "metadata": {},
     "output_type": "display_data"
    }
   ],
   "source": [
    "# Tokenizing the validation set\n",
    "val_df = pd.read_csv(f\"../input/val_processed_{max_sequence_length}.csv\")\n",
    "val_df = val_df.fillna(\"\")\n",
    "if use_lower:\n",
    "    val_df.text = val_df.text.apply(lambda x: x.lower())\n",
    "outputs, type_outputs = convert_lines(tokenizer,val_df,is_test=True,max_sequence_length=max_sequence_length)\n",
    "pickle.dump((outputs, type_outputs), open(f\"../input/pickled/val_{model_name}_{max_sequence_length}.pkl\",\"wb\"))"
   ]
  },
  {
   "cell_type": "code",
   "execution_count": 4,
   "metadata": {},
   "outputs": [
    {
     "name": "stdout",
     "output_type": "stream",
     "text": [
      "10226 ['National Survey of Midlife in the United States'\n",
      " 'Study to Understand Prognoses and Preferences for Outcomes and Risks of Treatments'\n",
      " 'World Values Surveys and European Values Surveys'\n",
      " 'drug abuse treatment outcome study DATOS' 'MTS'\n",
      " 'The Atlas of Economic Complexity' 'Active for Life'\n",
      " 'National Survey of Adolescents'\n",
      " 'Hispanic Health and Nutrition Examination Survey'\n",
      " 'Community Tracking Study (CTS) household survey']\n"
     ]
    }
   ],
   "source": [
    "## Data augmentation\n",
    "train_df  = pd.read_csv(f\"../input/train_sampled_{max_sequence_length}.csv\").fillna(\"\")\n",
    "if use_lower:\n",
    "    train_df.text = train_df.text.apply(lambda x: x.lower())\n",
    "    train_df.label = train_df.label.apply(lambda x: x.lower())\n",
    "    \n",
    "# Most of augmentated titles come from Kaggle\n",
    "kaggle_df = pd.read_csv(\"../input/kaggle_datasets.csv\")\n",
    "kaggle_df = kaggle_df[(kaggle_df.keywords.str.len() > 0) & (kaggle_df.license_name != \"Unknown\")]\n",
    "\n",
    "def is_valid(x):\n",
    "    return x[0].isalpha() and x[0].istitle() and \"_\" not in x and len(x.split()) > 1\n",
    "db_names = list(set([x for x in kaggle_df.title.values if is_valid(x)]))[:7000]\n",
    "\n",
    "# https://github.com/awesomedata/awesome-public-datasets\n",
    "db_names.extend([x.strip() for x in open(\"../input/db_names.txt\") if is_valid(x)])\n",
    "\n",
    "# https://www.usda.gov/sites/default/files/documents/data.json\n",
    "col_data = json.load(open(\"../input/data_set_citations.json\",\"rt\"))\n",
    "all_mentions = []\n",
    "for citation in col_data:\n",
    "    mentions = citation[\"mention_list\"]\n",
    "    all_mentions.extend(mentions)\n",
    "all_mentions = [x.encode(\"ascii\",\"ignore\") for x in all_mentions if len(x.split()) > 2 or np.random.rand() < 0.1]\n",
    "db_names.extend(all_mentions)\n",
    "db_names = list(set(db_names))\n",
    "db_names = np.array(db_names)\n",
    "\n",
    "if use_lower:\n",
    "    db_names = [x.lower() for x in db_names]\n",
    "print(len(db_names),db_names[-10:])"
   ]
  },
  {
   "cell_type": "code",
   "execution_count": 23,
   "metadata": {},
   "outputs": [
    {
     "data": {
      "application/vnd.jupyter.widget-view+json": {
       "model_id": "27c750d170a54a7cb70af796f21cf93c",
       "version_major": 2,
       "version_minor": 0
      },
      "text/plain": [
       "  0%|          | 0/80656 [00:00<?, ?it/s]"
      ]
     },
     "metadata": {},
     "output_type": "display_data"
    },
    {
     "name": "stdout",
     "output_type": "stream",
     "text": [
      "substring not found\n",
      "substring not found\n"
     ]
    }
   ],
   "source": [
    "# Replacing original labels with augmented labels\n",
    "\n",
    "new_texts = []\n",
    "new_labels = []\n",
    "for idx, row in tqdm(train_df.iterrows(),total=len(train_df)):\n",
    "    if len(row.label.strip()) == 0:\n",
    "        new_texts.append(row.text)\n",
    "        new_labels.append(\"\")\n",
    "        continue\n",
    "    try:\n",
    "        start = row.text.index(row.label.strip())\n",
    "    except Exception as e:\n",
    "        new_texts.append(row.text)\n",
    "        new_labels.append(\"\")\n",
    "        print(e)\n",
    "        continue\n",
    "    end = start + len(row.label.strip())\n",
    "    new_label = row.label.strip()\n",
    "    if np.random.rand() < 0.95:\n",
    "        new_label = np.random.choice(db_names,size = 1)[0]\n",
    "    try:\n",
    "        new_texts.append(row.text[:start]+new_label+row.text[end:])\n",
    "        new_labels.append(new_label)\n",
    "    except Exception as e:\n",
    "        print(e)\n",
    "        break"
   ]
  },
  {
   "cell_type": "code",
   "execution_count": 24,
   "metadata": {},
   "outputs": [],
   "source": [
    "train_aug = train_df.copy()\n",
    "train_aug.text = new_texts\n",
    "train_aug.label = new_labels"
   ]
  },
  {
   "cell_type": "code",
   "execution_count": 26,
   "metadata": {},
   "outputs": [
    {
     "data": {
      "application/vnd.jupyter.widget-view+json": {
       "model_id": "edb50e157db1476cbf165e989390b32d",
       "version_major": 2,
       "version_minor": 0
      },
      "text/plain": [
       "  0%|          | 0/80656 [00:00<?, ?it/s]"
      ]
     },
     "metadata": {},
     "output_type": "display_data"
    },
    {
     "name": "stdout",
     "output_type": "stream",
     "text": [
      "[2351, 5882, 35118, 7276, 28095, 893] 2\n",
      "[5401, 5652, 1012, 2334, 286, 27049, 406, 21963, 1112, 376, 8789] 2\n",
      "[32519, 399, 19930] 2\n",
      "[3611, 5483, 28095, 893] 2\n",
      "[8108, 37169, 12481, 1594, 43240, 290, 7795, 2079, 37306, 28095, 893, 290, 7281, 1891, 28095, 893] 2\n",
      "[29576, 273, 31084, 707, 1872] 2\n"
     ]
    }
   ],
   "source": [
    "# Tokenizing the training set\n",
    "outputs, type_outputs, position_outputs, offset_outputs, df = convert_lines(tokenizer,train_aug,max_sequence_length=max_sequence_length)\n",
    "pickle.dump((outputs, type_outputs, position_outputs, offset_outputs), open(f\"../input/pickled/train_aug_{model_name}_{max_sequence_length}.pkl\",\"wb\"))"
   ]
  },
  {
   "cell_type": "code",
   "execution_count": 2,
   "metadata": {},
   "outputs": [],
   "source": [
    "!ls -halt ../input/pickled"
   ]
  },
  {
   "cell_type": "code",
   "execution_count": 28,
   "metadata": {},
   "outputs": [],
   "source": [
    "val_df = pd.read_csv(f\"../input/val_processed_{max_sequence_length}.csv\")\n",
    "val_df = val_df.fillna(\"\")\n",
    "for x in val_df.label.unique():\n",
    "    for y in train_df.label.unique():\n",
    "        if len(x) == 0 or len(y) == 0:\n",
    "            continue\n",
    "        if _jaccard_similarity(x,y) >= 0.5:\n",
    "            print(x,\"|\",y)"
   ]
  },
  {
   "cell_type": "code",
   "execution_count": null,
   "metadata": {},
   "outputs": [],
   "source": []
  }
 ],
 "metadata": {
  "hide_input": false,
  "kernelspec": {
   "display_name": "Python 3",
   "language": "python",
   "name": "python3"
  },
  "language_info": {
   "codemirror_mode": {
    "name": "ipython",
    "version": 3
   },
   "file_extension": ".py",
   "mimetype": "text/x-python",
   "name": "python",
   "nbconvert_exporter": "python",
   "pygments_lexer": "ipython3",
   "version": "3.8.5"
  },
  "toc": {
   "base_numbering": 1,
   "nav_menu": {},
   "number_sections": true,
   "sideBar": true,
   "skip_h1_title": false,
   "title_cell": "Table of Contents",
   "title_sidebar": "Contents",
   "toc_cell": false,
   "toc_position": {},
   "toc_section_display": true,
   "toc_window_display": false
  }
 },
 "nbformat": 4,
 "nbformat_minor": 4
}
